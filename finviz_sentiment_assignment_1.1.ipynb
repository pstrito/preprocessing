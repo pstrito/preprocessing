{
 "cells": [
  {
   "cell_type": "markdown",
   "metadata": {},
   "source": [
    "finviz_sentiment_assignment_1.1\n",
    "\n",
    "This program makes it easier to add sentiment numbers to titles of blogs scraped from finviz"
   ]
  },
  {
   "cell_type": "code",
   "execution_count": 1,
   "metadata": {},
   "outputs": [],
   "source": [
    "import pandas as pd\n",
    "import matplotlib.pyplot as plt\n",
    "import numpy as np\n",
    "import time\n",
    "import os \n",
    "from os import path\n",
    "\n",
    "#### METHODS ####\n",
    "\n",
    "def getData(name):\n",
    "    df1 = pd.DataFrame() # defines df1 as a dataframe\n",
    "    df1 = pd.read_csv(name, header = 0)\n",
    "    return df1\n",
    "\n",
    "\n",
    "# 120 Allows user to manually input value when stocktwits sentiment value is \"None\"\n",
    "# It counts every 20 edits and gives the user the option to quit. If the user chooses to quit\n",
    "# it breaks from the while look and writes the df to a csv file so all work is saved up to that point.\n",
    "# upon start up it ask if thie is the first time processing the raw data. If no it loads the csv file into\n",
    "# the dataframe and starts where the previous session left off. If \"modified?\" is \"Yes and \"sentiment\" is \"None\"\n",
    "# it skips the record. Therefore it will re-start at the first \"modified?\" is \"No\" and \"sentiment\" is \"None\"\n",
    "\n",
    "def edit(df, filename, relevant_path):\n",
    "\n",
    "    import copy\n",
    "        \n",
    "    i = 0\n",
    "    counter = 0    # counter to see if user want to stop\n",
    "    \n",
    "    print()\n",
    "\n",
    "    while i < len(df):\n",
    "        \n",
    "        if df.loc[i,('Sentiment')] == 'none':\n",
    "            print (df.loc[i,('title')])\n",
    "            df.loc[i,('Sentiment')] = input('What is the sentiment? ')\n",
    "            counter += 1\n",
    "            print(counter)\n",
    "        \n",
    "        if counter == 20: # represents 20 edits and lets you save and exit the current work\n",
    "            quit = input('Do you want to quit? (Enter either a \"y\" or \"Y\") ')\n",
    "            if quit == 'y' or quit == 'Y':\n",
    "                print('You are exiting.')\n",
    "                break\n",
    "            else:\n",
    "                counter = 0 # resets the counter to 0 so there must be another 20 records reviewed and modified \n",
    "        \n",
    "        i += 1\n",
    "    \n",
    "    print(df)\n",
    "\n",
    "    #need to convert empty strings to float type 'NaN'; empty strings are produced when an enter is pushed with no entry\n",
    "    df = df.replace(r'^\\s*$', np.NaN, regex = True)\n",
    "    \n",
    "    check_correct_null(df) #identifies and corrects null or empty sentiment inputs\n",
    "        \n",
    "    #filename = 'finviz_titles_with_sentiment.csv'\n",
    "    path_filename = relevant_path + '/' + filename\n",
    "    df.to_csv(path_filename, index = False)\n",
    "    print('The csv file was written. File name: ', filename)\n",
    "    \n",
    "    return df\n",
    "\n",
    "# prints out the names of the files in the directory\n",
    "def list_dir_files(relevant_path):\n",
    "    #https://clay-atlas.com/us/blog/2019/10/27/python-english-tutorial-solved-unicodeescape-error-escape-syntaxerror/?doing_wp_cron=1618286551.1528689861297607421875\n",
    "    #need to change \\ to /\n",
    "\n",
    "    import os\n",
    "\n",
    "    included_extensions = ['csv']\n",
    "    file_names = [fn for fn in os.listdir(relevant_path)\n",
    "              if any(fn.endswith(ext) for ext in included_extensions)]\n",
    "\n",
    "    for f in file_names:\n",
    "        print(f)\n",
    "    print()\n",
    "\n",
    "def check_correct_null(df): #finds the null records and gives user opportunity to fix them\n",
    "    \n",
    "    i = 0\n",
    "    \n",
    "    while i < len(df):\n",
    "        if pd.isnull(df.iloc[i,4]): #np.isnan cannot deal with any other data types other than real numbers; pd.isnull can\n",
    "            print('There is an empty sentiment value at index: ', i, '\\n')\n",
    "            \n",
    "            print('The blog title of the missing sentiments: ', df.iloc[i,3], '\\n')\n",
    "           \n",
    "            missed_sent = input('What should the sentiment be? ')\n",
    "            df.iloc[i,4] = missed_sent\n",
    "    \n",
    "        i += 1\n",
    "        \n",
    "    return df"
   ]
  },
  {
   "cell_type": "code",
   "execution_count": 2,
   "metadata": {},
   "outputs": [
    {
     "name": "stdout",
     "output_type": "stream",
     "text": [
      "2021-04-10 ARKG search stocktwits.csv\n",
      "2021-04-11 ROST search stocktwits.csv\n",
      "2021-04-11 TSLA search stocktwits.csv\n",
      "2021-04-11 V search stocktwits.csv\n",
      "2021-04-12 ACAD search stocktwits.csv\n",
      "2021-04-12 EBAY search stocktwits.csv\n",
      "2021-04-12 FB search stocktwits.csv\n",
      "2021-04-12 INTC search stocktwits.csv\n",
      "2021-04-12 OSTK search stocktwits.csv\n",
      "2021-04-12 V search stocktwits.csv\n",
      "2021-04-12 WKHS search stocktwits.csv\n",
      "2021-06-01 tech search stocktwits.csv\n",
      "2021-07-23_finviz_sentiment_model_generation_input_1100-Copy1.csv\n",
      "2021-07-23_finviz_sentiment_model_generation_input_1100.csv\n",
      "2021-07-23_finviz_sentiment_model_generation_input_1100_preprocessed_lemmatized.csv\n",
      "2021-07-28_finviz_sentiment_model_generation_input_1200.csv\n",
      "ARKG search stocktwits-Copy1.csv\n",
      "finviz_titles_with_sentiment_preprocessed_500_lemmatized.csv\n",
      "preprocessed edited tech stockTwit 03112021.csv\n",
      "preprocessed lemmatized.csv\n",
      "preprocessed r_a tech stockTwit 03112021.csv\n",
      "preprocessed r_d r_a r_e_o tech stockTwit 03112021.csv\n",
      "preprocessed r_d r_a r_stopwords r_emoj tech stockTwit 03112021.csv\n",
      "preprocessed r_d r_a r_stopwords r_emoj v_a tech stockTwit 03112021.csv\n",
      "preprocessed r_d r_a r_stopwords tech stockTwit 03112021.csv\n",
      "preprocessed r_d r_a tech stockTwit 03112021.csv\n",
      "preprocessed r_d tech stockTwit 03112021.csv\n",
      "preprocessed r_emoj tech stockTwit 03112021.csv\n",
      "preprocessed r_e_o tech stockTwit 03112021.csv\n",
      "preprocessed r_stopwords r_emoj tech stockTwit 03112021.csv\n",
      "preprocessed r_stopwords tech stockTwit 03112021.csv\n",
      "preprocessed tech stockTwit 03112021-Copy1.csv\n",
      "preprocessed tech stockTwit 03112021.csv\n",
      "scraped_tweets_names_dates.csv\n",
      "stopwords.csv\n",
      "tech stockTwit 03112021 adjusted Rev1.csv\n",
      "tech stockTwit 03112021-Copy1 ORIGINAL DO NOT USE.csv\n",
      "tech stockTwit 03112021.csv\n",
      "\n",
      "What file do you want to use?2021-07-28_finviz_sentiment_model_generation_input_1200.csv\n",
      "\n",
      "This file has been edited before.\n",
      "\n",
      "Is NVIDIA (NVDA) Outperforming Other Computer and Technology Stocks This Year?\n",
      "What is the sentiment? 0\n",
      "1\n",
      "What's Next for Nvidia After Its Stock Split?\n",
      "What is the sentiment? 0\n",
      "2\n",
      "AMD Stock to $100 - Here Is How It Will Get There\n",
      "What is the sentiment? .2\n",
      "3\n",
      "Chip-Sector Investing: To Stock Pick or Not to Stock Pick?\n",
      "What is the sentiment? 0\n",
      "4\n",
      "[video]Biden's Spending Plan, Market Rally, Trading Nvidia, Netflix, Chipotle\n",
      "What is the sentiment? .1\n",
      "5\n",
      "Netflix lays out mobile games plan that could set a collision course with Apple\n",
      "What is the sentiment? -.2\n",
      "6\n",
      "10 Growth Stocks Reddits WallStreetBets Is Buying\n",
      "What is the sentiment? .3\n",
      "7\n",
      "Is Nvidia About to Replace Intel in the Dow?\n",
      "What is the sentiment? 0\n",
      "8\n",
      "Nvidia Stock Is Falling. Blame Bitcoin and Ethereum.\n",
      "What is the sentiment? -.3\n",
      "9\n",
      "What Lies Ahead for Chip ETFs in Q2 Earnings?\n",
      "What is the sentiment? 0\n",
      "10\n",
      "Is Nvidia Stock a Buy Now After the 4-to-1 Stock Split?\n",
      "What is the sentiment? 0\n",
      "11\n",
      "Is Nvidia Stock a Buy Now After the 4-for-1 Stock Split?\n",
      "What is the sentiment? 0\n",
      "12\n",
      "Nvidia Stock - How to Trade It After the Split\n",
      "What is the sentiment? 0\n",
      "13\n",
      "NVIDIA Inference Breakthrough Makes Conversational AI Smarter, More Interactive From Cloud to Edge\n",
      "What is the sentiment? .2\n",
      "14\n",
      "Why Is Everyone Talking About Nvidia Stock?\n",
      "What is the sentiment? .1\n",
      "15\n",
      "Quantum Computing is Set to Transform Tech: 5 Stocks to Watch\n",
      "What is the sentiment? .1\n",
      "16\n",
      "Nvidia Shares Move Lower Amid Four-for-One Stock Split Debut\n",
      "What is the sentiment? -.2\n",
      "17\n",
      "Morning Bell With Jim Cramer: Nvidia, Semis Not So Cyclical\n",
      "What is the sentiment? 0\n",
      "18\n",
      "Premarket Movers Tuesday: Nvidia, Ardelyx, IBM\n",
      "What is the sentiment? 0\n",
      "19\n",
      "Nvidia, Blue Origin and Jeff Bezos, Apple, Netflix - 5 Things You Must Know Tuesday\n",
      "What is the sentiment? 0\n",
      "20\n",
      "Do you want to quit? (Enter either a \"y\" or \"Y\") y\n",
      "You are exiting.\n",
      "     ticker       date       time  \\\n",
      "0      NVDA  Jul-28-21  08:11AM     \n",
      "1      NVDA  Jul-28-21  08:00AM     \n",
      "2      NVDA  Jul-28-21  06:03AM     \n",
      "3      NVDA  Jul-28-21  05:59AM     \n",
      "4      NVDA  Jul-27-21  04:26PM     \n",
      "...     ...        ...        ...   \n",
      "1195    EDU  Oct-28-20  04:00AM     \n",
      "1196    EDU  Oct-19-20  12:00PM     \n",
      "1197    EDU  Oct-16-20  12:45PM     \n",
      "1198    EDU  Oct-16-20  07:05AM     \n",
      "1199    EDU  Oct-13-20  04:13PM     \n",
      "\n",
      "                                                  title Sentiment  \n",
      "0     3 Top Robinhood Stocks That Shrewd Investors S...        .1  \n",
      "1     Intel CEO: We have 100 companies that want us ...        .1  \n",
      "2     3 High-Growth Stocks That Could Be Worth $1 Tr...         0  \n",
      "3     Nvidia, Qualcomm and Other Chip Stocks Mixed A...       -.2  \n",
      "4     Why Nvidia, Facebook, Amazon, and Pinduoduo Fe...       -.3  \n",
      "...                                                 ...       ...  \n",
      "1195  New Oriental Launches Hong Kong Initial Public...      none  \n",
      "1196  Are You Looking for a Top Momentum Pick? Why N...      none  \n",
      "1197  Is New Oriental (EDU) a Solid Growth Stock? 3 ...      none  \n",
      "1198  Earnings Beat: New Oriental Education & Techno...      none  \n",
      "1199  New Oriental Education Beats Estimates But Sto...      none  \n",
      "\n",
      "[1200 rows x 5 columns]\n",
      "The csv file was written. File name:  2021-07-28_finviz_sentiment_model_generation_input_1200.csv\n"
     ]
    },
    {
     "data": {
      "text/html": [
       "<div>\n",
       "<style scoped>\n",
       "    .dataframe tbody tr th:only-of-type {\n",
       "        vertical-align: middle;\n",
       "    }\n",
       "\n",
       "    .dataframe tbody tr th {\n",
       "        vertical-align: top;\n",
       "    }\n",
       "\n",
       "    .dataframe thead th {\n",
       "        text-align: right;\n",
       "    }\n",
       "</style>\n",
       "<table border=\"1\" class=\"dataframe\">\n",
       "  <thead>\n",
       "    <tr style=\"text-align: right;\">\n",
       "      <th></th>\n",
       "      <th>ticker</th>\n",
       "      <th>date</th>\n",
       "      <th>time</th>\n",
       "      <th>title</th>\n",
       "      <th>Sentiment</th>\n",
       "    </tr>\n",
       "  </thead>\n",
       "  <tbody>\n",
       "    <tr>\n",
       "      <th>0</th>\n",
       "      <td>NVDA</td>\n",
       "      <td>Jul-28-21</td>\n",
       "      <td>08:11AM</td>\n",
       "      <td>3 Top Robinhood Stocks That Shrewd Investors S...</td>\n",
       "      <td>.1</td>\n",
       "    </tr>\n",
       "    <tr>\n",
       "      <th>1</th>\n",
       "      <td>NVDA</td>\n",
       "      <td>Jul-28-21</td>\n",
       "      <td>08:00AM</td>\n",
       "      <td>Intel CEO: We have 100 companies that want us ...</td>\n",
       "      <td>.1</td>\n",
       "    </tr>\n",
       "    <tr>\n",
       "      <th>2</th>\n",
       "      <td>NVDA</td>\n",
       "      <td>Jul-28-21</td>\n",
       "      <td>06:03AM</td>\n",
       "      <td>3 High-Growth Stocks That Could Be Worth $1 Tr...</td>\n",
       "      <td>0</td>\n",
       "    </tr>\n",
       "    <tr>\n",
       "      <th>3</th>\n",
       "      <td>NVDA</td>\n",
       "      <td>Jul-28-21</td>\n",
       "      <td>05:59AM</td>\n",
       "      <td>Nvidia, Qualcomm and Other Chip Stocks Mixed A...</td>\n",
       "      <td>-.2</td>\n",
       "    </tr>\n",
       "    <tr>\n",
       "      <th>4</th>\n",
       "      <td>NVDA</td>\n",
       "      <td>Jul-27-21</td>\n",
       "      <td>04:26PM</td>\n",
       "      <td>Why Nvidia, Facebook, Amazon, and Pinduoduo Fe...</td>\n",
       "      <td>-.3</td>\n",
       "    </tr>\n",
       "    <tr>\n",
       "      <th>...</th>\n",
       "      <td>...</td>\n",
       "      <td>...</td>\n",
       "      <td>...</td>\n",
       "      <td>...</td>\n",
       "      <td>...</td>\n",
       "    </tr>\n",
       "    <tr>\n",
       "      <th>1195</th>\n",
       "      <td>EDU</td>\n",
       "      <td>Oct-28-20</td>\n",
       "      <td>04:00AM</td>\n",
       "      <td>New Oriental Launches Hong Kong Initial Public...</td>\n",
       "      <td>none</td>\n",
       "    </tr>\n",
       "    <tr>\n",
       "      <th>1196</th>\n",
       "      <td>EDU</td>\n",
       "      <td>Oct-19-20</td>\n",
       "      <td>12:00PM</td>\n",
       "      <td>Are You Looking for a Top Momentum Pick? Why N...</td>\n",
       "      <td>none</td>\n",
       "    </tr>\n",
       "    <tr>\n",
       "      <th>1197</th>\n",
       "      <td>EDU</td>\n",
       "      <td>Oct-16-20</td>\n",
       "      <td>12:45PM</td>\n",
       "      <td>Is New Oriental (EDU) a Solid Growth Stock? 3 ...</td>\n",
       "      <td>none</td>\n",
       "    </tr>\n",
       "    <tr>\n",
       "      <th>1198</th>\n",
       "      <td>EDU</td>\n",
       "      <td>Oct-16-20</td>\n",
       "      <td>07:05AM</td>\n",
       "      <td>Earnings Beat: New Oriental Education &amp; Techno...</td>\n",
       "      <td>none</td>\n",
       "    </tr>\n",
       "    <tr>\n",
       "      <th>1199</th>\n",
       "      <td>EDU</td>\n",
       "      <td>Oct-13-20</td>\n",
       "      <td>04:13PM</td>\n",
       "      <td>New Oriental Education Beats Estimates But Sto...</td>\n",
       "      <td>none</td>\n",
       "    </tr>\n",
       "  </tbody>\n",
       "</table>\n",
       "<p>1200 rows × 5 columns</p>\n",
       "</div>"
      ],
      "text/plain": [
       "     ticker       date       time  \\\n",
       "0      NVDA  Jul-28-21  08:11AM     \n",
       "1      NVDA  Jul-28-21  08:00AM     \n",
       "2      NVDA  Jul-28-21  06:03AM     \n",
       "3      NVDA  Jul-28-21  05:59AM     \n",
       "4      NVDA  Jul-27-21  04:26PM     \n",
       "...     ...        ...        ...   \n",
       "1195    EDU  Oct-28-20  04:00AM     \n",
       "1196    EDU  Oct-19-20  12:00PM     \n",
       "1197    EDU  Oct-16-20  12:45PM     \n",
       "1198    EDU  Oct-16-20  07:05AM     \n",
       "1199    EDU  Oct-13-20  04:13PM     \n",
       "\n",
       "                                                  title Sentiment  \n",
       "0     3 Top Robinhood Stocks That Shrewd Investors S...        .1  \n",
       "1     Intel CEO: We have 100 companies that want us ...        .1  \n",
       "2     3 High-Growth Stocks That Could Be Worth $1 Tr...         0  \n",
       "3     Nvidia, Qualcomm and Other Chip Stocks Mixed A...       -.2  \n",
       "4     Why Nvidia, Facebook, Amazon, and Pinduoduo Fe...       -.3  \n",
       "...                                                 ...       ...  \n",
       "1195  New Oriental Launches Hong Kong Initial Public...      none  \n",
       "1196  Are You Looking for a Top Momentum Pick? Why N...      none  \n",
       "1197  Is New Oriental (EDU) a Solid Growth Stock? 3 ...      none  \n",
       "1198  Earnings Beat: New Oriental Education & Techno...      none  \n",
       "1199  New Oriental Education Beats Estimates But Sto...      none  \n",
       "\n",
       "[1200 rows x 5 columns]"
      ]
     },
     "execution_count": 2,
     "metadata": {},
     "output_type": "execute_result"
    }
   ],
   "source": [
    "########\n",
    "# MAIN #\n",
    "########\n",
    "\n",
    "#checks to see if the file exists; if it does, it opens it; if not it opens the raw file. \n",
    "#https://stackoverflow.com/questions/17530542/how-to-add-pandas-data-to-an-existing-csv-file\n",
    "\n",
    "relevant_path = 'C:/Users/pstri/OneDrive/Documents/Personal/Kokoro/NLTK/Code Project/Scraped Files'\n",
    "\n",
    "list_dir_files(relevant_path)\n",
    "\n",
    "filename = input('What file do you want to use?')\n",
    "\n",
    "df = getData(relevant_path + '/' + filename)\n",
    "\n",
    "if 'Sentiment' in df:\n",
    "    print('\\nThis file has been edited before.')\n",
    "else:\n",
    "    print('\\nThis is an un-edited file; a \"Sentiment\" column will be added with the values of \"none.\"')\n",
    "    df = df.assign(Sentiment = lambda x:'none') # add a column 'Sentiment' and populates with the value 'none'\n",
    "    \n",
    "#print(df.head())\n",
    "    \n",
    "edit(df, filename, relevant_path)"
   ]
  },
  {
   "cell_type": "code",
   "execution_count": null,
   "metadata": {},
   "outputs": [],
   "source": []
  },
  {
   "cell_type": "code",
   "execution_count": null,
   "metadata": {},
   "outputs": [],
   "source": []
  },
  {
   "cell_type": "code",
   "execution_count": null,
   "metadata": {},
   "outputs": [],
   "source": []
  },
  {
   "cell_type": "code",
   "execution_count": null,
   "metadata": {},
   "outputs": [],
   "source": []
  },
  {
   "cell_type": "code",
   "execution_count": null,
   "metadata": {},
   "outputs": [],
   "source": []
  },
  {
   "cell_type": "code",
   "execution_count": 120,
   "metadata": {},
   "outputs": [
    {
     "name": "stdout",
     "output_type": "stream",
     "text": [
      "There is an empty sentiment value at index:  0\n",
      "There is an empty sentiment value at index:  21\n",
      "There is an empty sentiment value at index:  22\n",
      "There is an empty sentiment value at index:  23\n",
      "There is an empty sentiment value at index:  24\n",
      "There is an empty sentiment value at index:  25\n",
      "There is an empty sentiment value at index:  26\n",
      "There is an empty sentiment value at index:  27\n",
      "There is an empty sentiment value at index:  28\n",
      "There is an empty sentiment value at index:  29\n",
      "There is an empty sentiment value at index:  30\n",
      "There is an empty sentiment value at index:  31\n",
      "There is an empty sentiment value at index:  32\n",
      "There is an empty sentiment value at index:  33\n",
      "There is an empty sentiment value at index:  34\n",
      "There is an empty sentiment value at index:  35\n",
      "There is an empty sentiment value at index:  36\n",
      "There is an empty sentiment value at index:  37\n",
      "There is an empty sentiment value at index:  38\n",
      "There is an empty sentiment value at index:  39\n"
     ]
    }
   ],
   "source": [
    "i = 0\n",
    "    \n",
    "while i < len(df):\n",
    "    if pd.isnull(df.iloc[i,4]):\n",
    "        print('There is an empty sentiment value at index: ', i)\n",
    "    \n",
    "    i += 1"
   ]
  },
  {
   "cell_type": "code",
   "execution_count": 75,
   "metadata": {},
   "outputs": [
    {
     "name": "stdout",
     "output_type": "stream",
     "text": [
      "(array([0], dtype=int64), array([4], dtype=int64))\n"
     ]
    },
    {
     "data": {
      "text/plain": [
       "True"
      ]
     },
     "execution_count": 75,
     "metadata": {},
     "output_type": "execute_result"
    }
   ],
   "source": [
    "print(np.where(pd.isnull(df)))\n",
    "np.isnan(df.iloc[0,4])\n"
   ]
  },
  {
   "cell_type": "code",
   "execution_count": 85,
   "metadata": {},
   "outputs": [
    {
     "data": {
      "text/plain": [
       "(array([0], dtype=int64),)"
      ]
     },
     "execution_count": 85,
     "metadata": {},
     "output_type": "execute_result"
    }
   ],
   "source": [
    "np.where(np.isnan(df.iloc[0,4]))"
   ]
  },
  {
   "cell_type": "code",
   "execution_count": 110,
   "metadata": {},
   "outputs": [
    {
     "data": {
      "text/plain": [
       "False"
      ]
     },
     "execution_count": 110,
     "metadata": {},
     "output_type": "execute_result"
    }
   ],
   "source": [
    "pd.isnull(df.iloc[2,4])"
   ]
  },
  {
   "cell_type": "code",
   "execution_count": 88,
   "metadata": {},
   "outputs": [
    {
     "data": {
      "text/plain": [
       "True"
      ]
     },
     "execution_count": 88,
     "metadata": {},
     "output_type": "execute_result"
    }
   ],
   "source": [
    "np.isnan(df.iloc[0,4])"
   ]
  },
  {
   "cell_type": "code",
   "execution_count": 80,
   "metadata": {},
   "outputs": [
    {
     "name": "stdout",
     "output_type": "stream",
     "text": [
      "   ticker       date       time  \\\n",
      "18   NVDA  Jul-25-21  09:18PM     \n",
      "19   NVDA  Jul-25-21  04:29PM     \n",
      "20   NVDA  Jul-25-21  04:29PM     \n",
      "21   NVDA  Jul-25-21  08:32AM     \n",
      "\n",
      "                                                title Sentiment  \n",
      "18  10 Most-Shorted Stocks Reddits WallStreetBets ...         0  \n",
      "19            Why Nvidia Stock Climbed 7.7% This Week        .3  \n",
      "20            Why Nvidia Stock Climbed 7.7% Last Week            \n",
      "21  These Are The Best Robinhood Stocks To Buy Or ...            \n"
     ]
    }
   ],
   "source": [
    "print(df.iloc[18:22])"
   ]
  },
  {
   "cell_type": "code",
   "execution_count": 112,
   "metadata": {},
   "outputs": [
    {
     "data": {
      "text/plain": [
       "0     <class 'float'>\n",
       "1       <class 'str'>\n",
       "2       <class 'str'>\n",
       "3       <class 'str'>\n",
       "4       <class 'str'>\n",
       "5       <class 'str'>\n",
       "6       <class 'str'>\n",
       "7       <class 'str'>\n",
       "8       <class 'str'>\n",
       "9       <class 'str'>\n",
       "10      <class 'str'>\n",
       "11      <class 'str'>\n",
       "12      <class 'str'>\n",
       "13      <class 'str'>\n",
       "14      <class 'str'>\n",
       "15      <class 'str'>\n",
       "16      <class 'str'>\n",
       "17      <class 'str'>\n",
       "18      <class 'str'>\n",
       "19      <class 'str'>\n",
       "20    <class 'float'>\n",
       "21    <class 'float'>\n",
       "22    <class 'float'>\n",
       "23    <class 'float'>\n",
       "24    <class 'float'>\n",
       "Name: Sentiment, dtype: object"
      ]
     },
     "execution_count": 112,
     "metadata": {},
     "output_type": "execute_result"
    }
   ],
   "source": [
    "df[0:25].Sentiment.apply(type)"
   ]
  },
  {
   "cell_type": "code",
   "execution_count": 102,
   "metadata": {},
   "outputs": [
    {
     "name": "stdout",
     "output_type": "stream",
     "text": [
      "\n"
     ]
    }
   ],
   "source": [
    "print(df.iloc[20,4])"
   ]
  },
  {
   "cell_type": "code",
   "execution_count": null,
   "metadata": {},
   "outputs": [],
   "source": [
    "# replaces empty strings with a NaN"
   ]
  },
  {
   "cell_type": "code",
   "execution_count": 103,
   "metadata": {},
   "outputs": [],
   "source": [
    "df = df.replace(r'^\\s*$', np.NaN, regex = True)"
   ]
  },
  {
   "cell_type": "code",
   "execution_count": 104,
   "metadata": {},
   "outputs": [
    {
     "name": "stdout",
     "output_type": "stream",
     "text": [
      "   ticker       date       time  \\\n",
      "0    NVDA  Jul-28-21  08:11AM     \n",
      "1    NVDA  Jul-28-21  08:00AM     \n",
      "2    NVDA  Jul-28-21  06:03AM     \n",
      "3    NVDA  Jul-28-21  05:59AM     \n",
      "4    NVDA  Jul-27-21  04:26PM     \n",
      "5    NVDA  Jul-27-21  01:58PM     \n",
      "6    NVDA  Jul-27-21  01:42PM     \n",
      "7    NVDA  Jul-27-21  11:39AM     \n",
      "8    NVDA  Jul-27-21  08:43AM     \n",
      "9    NVDA  Jul-27-21  07:00AM     \n",
      "10   NVDA  Jul-27-21  05:55AM     \n",
      "11   NVDA  Jul-26-21  05:56PM     \n",
      "12   NVDA  Jul-26-21  05:00PM     \n",
      "13   NVDA  Jul-26-21  04:25PM     \n",
      "14   NVDA  Jul-26-21  11:16AM     \n",
      "15   NVDA  Jul-26-21  10:03AM     \n",
      "16   NVDA  Jul-26-21  08:15AM     \n",
      "17   NVDA  Jul-26-21  07:10AM     \n",
      "18   NVDA  Jul-25-21  09:18PM     \n",
      "19   NVDA  Jul-25-21  04:29PM     \n",
      "20   NVDA  Jul-25-21  04:29PM     \n",
      "21   NVDA  Jul-25-21  08:32AM     \n",
      "22   NVDA  Jul-24-21  06:30AM     \n",
      "23   NVDA  Jul-23-21  03:16PM     \n",
      "24   NVDA  Jul-23-21  01:02PM     \n",
      "\n",
      "                                                title Sentiment  \n",
      "0   3 Top Robinhood Stocks That Shrewd Investors S...       NaN  \n",
      "1   Intel CEO: We have 100 companies that want us ...        .1  \n",
      "2   3 High-Growth Stocks That Could Be Worth $1 Tr...         0  \n",
      "3   Nvidia, Qualcomm and Other Chip Stocks Mixed A...       -.2  \n",
      "4   Why Nvidia, Facebook, Amazon, and Pinduoduo Fe...       -.3  \n",
      "5   Intel CEO on the chip industry: You can't be a...         0  \n",
      "6   Qualcomm (QCOM) Option Traders Bullish Into Ea...        .3  \n",
      "7                        Intel to make Qualcomm chips        .2  \n",
      "8   Are Robust Financials Driving The Recent Rally...        .2  \n",
      "9   Gamers are going to great lengths to find grap...        .1  \n",
      "10  Think Cryptocurrency Is Too Risky? Invest in T...         0  \n",
      "11  UPDATE 1-Intel to build Qualcomm chips, aims t...        .4  \n",
      "12  Intel to build Qualcomm chips, aims to catch f...        .4  \n",
      "13    Is Nvidia Stock A Buy After 4-To-1 Stock Split?         0  \n",
      "14                      Why Nvidia Stock Just Dropped       -.2  \n",
      "15  AMD Gears Up for Q2 Earnings: Semi-Custom & EP...        .3  \n",
      "16  Dow Jones Futures Fall: Market Rally At Highs ...       -.2  \n",
      "17  Arm faces decline and cuts without $40bn Nvidi...       -.4  \n",
      "18  10 Most-Shorted Stocks Reddits WallStreetBets ...         0  \n",
      "19            Why Nvidia Stock Climbed 7.7% This Week        .3  \n",
      "20            Why Nvidia Stock Climbed 7.7% Last Week       NaN  \n",
      "21  These Are The Best Robinhood Stocks To Buy Or ...       NaN  \n",
      "22           Better Buy: Nvidia vs. Micron Technology       NaN  \n",
      "23  Chip shortage is an all hands on deck type sit...       NaN  \n",
      "24  How Nvidia Makes Money: Gaming, Data Center, a...       NaN  \n"
     ]
    }
   ],
   "source": [
    "print(df.head(25))"
   ]
  },
  {
   "cell_type": "code",
   "execution_count": 106,
   "metadata": {},
   "outputs": [
    {
     "ename": "TypeError",
     "evalue": "ufunc 'isnan' not supported for the input types, and the inputs could not be safely coerced to any supported types according to the casting rule ''safe''",
     "output_type": "error",
     "traceback": [
      "\u001b[1;31m---------------------------------------------------------------------------\u001b[0m",
      "\u001b[1;31mTypeError\u001b[0m                                 Traceback (most recent call last)",
      "\u001b[1;32m<ipython-input-106-2743dbdae0b0>\u001b[0m in \u001b[0;36m<module>\u001b[1;34m\u001b[0m\n\u001b[1;32m----> 1\u001b[1;33m \u001b[0mnp\u001b[0m\u001b[1;33m.\u001b[0m\u001b[0mwhere\u001b[0m\u001b[1;33m(\u001b[0m\u001b[0mnp\u001b[0m\u001b[1;33m.\u001b[0m\u001b[0misnan\u001b[0m\u001b[1;33m(\u001b[0m\u001b[0mdf\u001b[0m\u001b[1;33m)\u001b[0m\u001b[1;33m)\u001b[0m\u001b[1;33m\u001b[0m\u001b[1;33m\u001b[0m\u001b[0m\n\u001b[0m",
      "\u001b[1;32m~\\AppData\\Roaming\\Python\\Python38\\site-packages\\pandas\\core\\generic.py\u001b[0m in \u001b[0;36m__array_ufunc__\u001b[1;34m(self, ufunc, method, *inputs, **kwargs)\u001b[0m\n\u001b[0;32m   1934\u001b[0m         \u001b[0mself\u001b[0m\u001b[1;33m,\u001b[0m \u001b[0mufunc\u001b[0m\u001b[1;33m:\u001b[0m \u001b[0mCallable\u001b[0m\u001b[1;33m,\u001b[0m \u001b[0mmethod\u001b[0m\u001b[1;33m:\u001b[0m \u001b[0mstr\u001b[0m\u001b[1;33m,\u001b[0m \u001b[1;33m*\u001b[0m\u001b[0minputs\u001b[0m\u001b[1;33m:\u001b[0m \u001b[0mAny\u001b[0m\u001b[1;33m,\u001b[0m \u001b[1;33m**\u001b[0m\u001b[0mkwargs\u001b[0m\u001b[1;33m:\u001b[0m \u001b[0mAny\u001b[0m\u001b[1;33m\u001b[0m\u001b[1;33m\u001b[0m\u001b[0m\n\u001b[0;32m   1935\u001b[0m     ):\n\u001b[1;32m-> 1936\u001b[1;33m         \u001b[1;32mreturn\u001b[0m \u001b[0marraylike\u001b[0m\u001b[1;33m.\u001b[0m\u001b[0marray_ufunc\u001b[0m\u001b[1;33m(\u001b[0m\u001b[0mself\u001b[0m\u001b[1;33m,\u001b[0m \u001b[0mufunc\u001b[0m\u001b[1;33m,\u001b[0m \u001b[0mmethod\u001b[0m\u001b[1;33m,\u001b[0m \u001b[1;33m*\u001b[0m\u001b[0minputs\u001b[0m\u001b[1;33m,\u001b[0m \u001b[1;33m**\u001b[0m\u001b[0mkwargs\u001b[0m\u001b[1;33m)\u001b[0m\u001b[1;33m\u001b[0m\u001b[1;33m\u001b[0m\u001b[0m\n\u001b[0m\u001b[0;32m   1937\u001b[0m \u001b[1;33m\u001b[0m\u001b[0m\n\u001b[0;32m   1938\u001b[0m     \u001b[1;31m# ideally we would define this to avoid the getattr checks, but\u001b[0m\u001b[1;33m\u001b[0m\u001b[1;33m\u001b[0m\u001b[1;33m\u001b[0m\u001b[0m\n",
      "\u001b[1;32m~\\AppData\\Roaming\\Python\\Python38\\site-packages\\pandas\\core\\arraylike.py\u001b[0m in \u001b[0;36marray_ufunc\u001b[1;34m(self, ufunc, method, *inputs, **kwargs)\u001b[0m\n\u001b[0;32m    364\u001b[0m             \u001b[1;31m# take this path if there are no kwargs\u001b[0m\u001b[1;33m\u001b[0m\u001b[1;33m\u001b[0m\u001b[1;33m\u001b[0m\u001b[0m\n\u001b[0;32m    365\u001b[0m             \u001b[0mmgr\u001b[0m \u001b[1;33m=\u001b[0m \u001b[0minputs\u001b[0m\u001b[1;33m[\u001b[0m\u001b[1;36m0\u001b[0m\u001b[1;33m]\u001b[0m\u001b[1;33m.\u001b[0m\u001b[0m_mgr\u001b[0m\u001b[1;33m\u001b[0m\u001b[1;33m\u001b[0m\u001b[0m\n\u001b[1;32m--> 366\u001b[1;33m             \u001b[0mresult\u001b[0m \u001b[1;33m=\u001b[0m \u001b[0mmgr\u001b[0m\u001b[1;33m.\u001b[0m\u001b[0mapply\u001b[0m\u001b[1;33m(\u001b[0m\u001b[0mgetattr\u001b[0m\u001b[1;33m(\u001b[0m\u001b[0mufunc\u001b[0m\u001b[1;33m,\u001b[0m \u001b[0mmethod\u001b[0m\u001b[1;33m)\u001b[0m\u001b[1;33m)\u001b[0m\u001b[1;33m\u001b[0m\u001b[1;33m\u001b[0m\u001b[0m\n\u001b[0m\u001b[0;32m    367\u001b[0m         \u001b[1;32melse\u001b[0m\u001b[1;33m:\u001b[0m\u001b[1;33m\u001b[0m\u001b[1;33m\u001b[0m\u001b[0m\n\u001b[0;32m    368\u001b[0m             \u001b[1;31m# otherwise specific ufunc methods (eg np.<ufunc>.accumulate(..))\u001b[0m\u001b[1;33m\u001b[0m\u001b[1;33m\u001b[0m\u001b[1;33m\u001b[0m\u001b[0m\n",
      "\u001b[1;32m~\\AppData\\Roaming\\Python\\Python38\\site-packages\\pandas\\core\\internals\\managers.py\u001b[0m in \u001b[0;36mapply\u001b[1;34m(self, f, align_keys, ignore_failures, **kwargs)\u001b[0m\n\u001b[0;32m    423\u001b[0m             \u001b[1;32mtry\u001b[0m\u001b[1;33m:\u001b[0m\u001b[1;33m\u001b[0m\u001b[1;33m\u001b[0m\u001b[0m\n\u001b[0;32m    424\u001b[0m                 \u001b[1;32mif\u001b[0m \u001b[0mcallable\u001b[0m\u001b[1;33m(\u001b[0m\u001b[0mf\u001b[0m\u001b[1;33m)\u001b[0m\u001b[1;33m:\u001b[0m\u001b[1;33m\u001b[0m\u001b[1;33m\u001b[0m\u001b[0m\n\u001b[1;32m--> 425\u001b[1;33m                     \u001b[0mapplied\u001b[0m \u001b[1;33m=\u001b[0m \u001b[0mb\u001b[0m\u001b[1;33m.\u001b[0m\u001b[0mapply\u001b[0m\u001b[1;33m(\u001b[0m\u001b[0mf\u001b[0m\u001b[1;33m,\u001b[0m \u001b[1;33m**\u001b[0m\u001b[0mkwargs\u001b[0m\u001b[1;33m)\u001b[0m\u001b[1;33m\u001b[0m\u001b[1;33m\u001b[0m\u001b[0m\n\u001b[0m\u001b[0;32m    426\u001b[0m                 \u001b[1;32melse\u001b[0m\u001b[1;33m:\u001b[0m\u001b[1;33m\u001b[0m\u001b[1;33m\u001b[0m\u001b[0m\n\u001b[0;32m    427\u001b[0m                     \u001b[0mapplied\u001b[0m \u001b[1;33m=\u001b[0m \u001b[0mgetattr\u001b[0m\u001b[1;33m(\u001b[0m\u001b[0mb\u001b[0m\u001b[1;33m,\u001b[0m \u001b[0mf\u001b[0m\u001b[1;33m)\u001b[0m\u001b[1;33m(\u001b[0m\u001b[1;33m**\u001b[0m\u001b[0mkwargs\u001b[0m\u001b[1;33m)\u001b[0m\u001b[1;33m\u001b[0m\u001b[1;33m\u001b[0m\u001b[0m\n",
      "\u001b[1;32m~\\AppData\\Roaming\\Python\\Python38\\site-packages\\pandas\\core\\internals\\blocks.py\u001b[0m in \u001b[0;36mapply\u001b[1;34m(self, func, **kwargs)\u001b[0m\n\u001b[0;32m    376\u001b[0m         \"\"\"\n\u001b[0;32m    377\u001b[0m         \u001b[1;32mwith\u001b[0m \u001b[0mnp\u001b[0m\u001b[1;33m.\u001b[0m\u001b[0merrstate\u001b[0m\u001b[1;33m(\u001b[0m\u001b[0mall\u001b[0m\u001b[1;33m=\u001b[0m\u001b[1;34m\"ignore\"\u001b[0m\u001b[1;33m)\u001b[0m\u001b[1;33m:\u001b[0m\u001b[1;33m\u001b[0m\u001b[1;33m\u001b[0m\u001b[0m\n\u001b[1;32m--> 378\u001b[1;33m             \u001b[0mresult\u001b[0m \u001b[1;33m=\u001b[0m \u001b[0mfunc\u001b[0m\u001b[1;33m(\u001b[0m\u001b[0mself\u001b[0m\u001b[1;33m.\u001b[0m\u001b[0mvalues\u001b[0m\u001b[1;33m,\u001b[0m \u001b[1;33m**\u001b[0m\u001b[0mkwargs\u001b[0m\u001b[1;33m)\u001b[0m\u001b[1;33m\u001b[0m\u001b[1;33m\u001b[0m\u001b[0m\n\u001b[0m\u001b[0;32m    379\u001b[0m \u001b[1;33m\u001b[0m\u001b[0m\n\u001b[0;32m    380\u001b[0m         \u001b[1;32mreturn\u001b[0m \u001b[0mself\u001b[0m\u001b[1;33m.\u001b[0m\u001b[0m_split_op_result\u001b[0m\u001b[1;33m(\u001b[0m\u001b[0mresult\u001b[0m\u001b[1;33m)\u001b[0m\u001b[1;33m\u001b[0m\u001b[1;33m\u001b[0m\u001b[0m\n",
      "\u001b[1;31mTypeError\u001b[0m: ufunc 'isnan' not supported for the input types, and the inputs could not be safely coerced to any supported types according to the casting rule ''safe''"
     ]
    }
   ],
   "source": [
    "np.where(np.isnan(df))"
   ]
  },
  {
   "cell_type": "code",
   "execution_count": null,
   "metadata": {},
   "outputs": [],
   "source": []
  },
  {
   "cell_type": "code",
   "execution_count": null,
   "metadata": {},
   "outputs": [],
   "source": []
  },
  {
   "cell_type": "code",
   "execution_count": null,
   "metadata": {},
   "outputs": [],
   "source": []
  },
  {
   "cell_type": "code",
   "execution_count": null,
   "metadata": {},
   "outputs": [],
   "source": []
  },
  {
   "cell_type": "code",
   "execution_count": 58,
   "metadata": {},
   "outputs": [
    {
     "name": "stdout",
     "output_type": "stream",
     "text": [
      "     ticker       date       time  \\\n",
      "0      NVDA  Jul-28-21  08:11AM     \n",
      "1      NVDA  Jul-28-21  08:00AM     \n",
      "2      NVDA  Jul-28-21  06:03AM     \n",
      "3      NVDA  Jul-28-21  05:59AM     \n",
      "4      NVDA  Jul-27-21  04:26PM     \n",
      "...     ...        ...        ...   \n",
      "1195    EDU  Oct-28-20  04:00AM     \n",
      "1196    EDU  Oct-19-20  12:00PM     \n",
      "1197    EDU  Oct-16-20  12:45PM     \n",
      "1198    EDU  Oct-16-20  07:05AM     \n",
      "1199    EDU  Oct-13-20  04:13PM     \n",
      "\n",
      "                                                  title Sentiment  \n",
      "0     3 Top Robinhood Stocks That Shrewd Investors S...       0.1  \n",
      "1     Intel CEO: We have 100 companies that want us ...        .1  \n",
      "2     3 High-Growth Stocks That Could Be Worth $1 Tr...         0  \n",
      "3     Nvidia, Qualcomm and Other Chip Stocks Mixed A...       -.2  \n",
      "4     Why Nvidia, Facebook, Amazon, and Pinduoduo Fe...       -.3  \n",
      "...                                                 ...       ...  \n",
      "1195  New Oriental Launches Hong Kong Initial Public...      none  \n",
      "1196  Are You Looking for a Top Momentum Pick? Why N...      none  \n",
      "1197  Is New Oriental (EDU) a Solid Growth Stock? 3 ...      none  \n",
      "1198  Earnings Beat: New Oriental Education & Techno...      none  \n",
      "1199  New Oriental Education Beats Estimates But Sto...      none  \n",
      "\n",
      "[1200 rows x 5 columns]\n"
     ]
    },
    {
     "data": {
      "text/plain": [
       "(array([], dtype=int64), array([], dtype=int64))"
      ]
     },
     "execution_count": 58,
     "metadata": {},
     "output_type": "execute_result"
    }
   ],
   "source": [
    "df1 = df\n",
    "\n",
    "print(df1)\n",
    "df1.iloc[0,4] = .1\n",
    "np.where(pd.isnull(df1))"
   ]
  },
  {
   "cell_type": "code",
   "execution_count": null,
   "metadata": {},
   "outputs": [],
   "source": []
  },
  {
   "cell_type": "code",
   "execution_count": null,
   "metadata": {},
   "outputs": [],
   "source": []
  },
  {
   "cell_type": "code",
   "execution_count": 7,
   "metadata": {},
   "outputs": [
    {
     "name": "stdout",
     "output_type": "stream",
     "text": [
      "2021-04-10 ARKG search stocktwits.csv\n",
      "2021-04-11 ROST search stocktwits.csv\n",
      "2021-04-11 TSLA search stocktwits.csv\n",
      "2021-04-11 V search stocktwits.csv\n",
      "2021-04-12 ACAD search stocktwits.csv\n",
      "2021-04-12 EBAY search stocktwits.csv\n",
      "2021-04-12 FB search stocktwits.csv\n",
      "2021-04-12 INTC search stocktwits.csv\n",
      "2021-04-12 OSTK search stocktwits.csv\n",
      "2021-04-12 V search stocktwits.csv\n",
      "2021-04-12 WKHS search stocktwits.csv\n",
      "2021-06-01 tech search stocktwits.csv\n",
      "2021-07-23_finviz_sentiment_model_generation_input_1100.csv\n",
      "ARKG search stocktwits-Copy1.csv\n",
      "preprocessed edited tech stockTwit 03112021.csv\n",
      "preprocessed lemmatized.csv\n",
      "preprocessed r_a tech stockTwit 03112021.csv\n",
      "preprocessed r_d r_a r_e_o tech stockTwit 03112021.csv\n",
      "preprocessed r_d r_a r_stopwords r_emoj tech stockTwit 03112021.csv\n",
      "preprocessed r_d r_a r_stopwords r_emoj v_a tech stockTwit 03112021.csv\n",
      "preprocessed r_d r_a r_stopwords tech stockTwit 03112021.csv\n",
      "preprocessed r_d r_a tech stockTwit 03112021.csv\n",
      "preprocessed r_d tech stockTwit 03112021.csv\n",
      "preprocessed r_emoj tech stockTwit 03112021.csv\n",
      "preprocessed r_e_o tech stockTwit 03112021.csv\n",
      "preprocessed r_stopwords r_emoj tech stockTwit 03112021.csv\n",
      "preprocessed r_stopwords tech stockTwit 03112021.csv\n",
      "preprocessed tech stockTwit 03112021-Copy1.csv\n",
      "preprocessed tech stockTwit 03112021.csv\n",
      "scraped_tweets_names_dates.csv\n",
      "stopwords.csv\n",
      "tech stockTwit 03112021 adjusted Rev1.csv\n",
      "tech stockTwit 03112021-Copy1 ORIGINAL DO NOT USE.csv\n",
      "tech stockTwit 03112021.csv\n",
      "What file do you want to use?2021-07-23_finviz_sentiment_model_generation_input_1100.csv\n",
      "It is not there; a column will be added with the values of \"none.\"\n",
      "  ticker       date       time  \\\n",
      "0   NVDA  Jul-23-21  07:26PM     \n",
      "1   NVDA  Jul-23-21  03:16PM     \n",
      "2   NVDA  Jul-23-21  01:02PM     \n",
      "3   NVDA  Jul-23-21  12:11PM     \n",
      "4   NVDA  Jul-23-21  12:01PM     \n",
      "\n",
      "                                               title Sentiment  \n",
      "0  Dow Jones Futures: Stock Market Rally Back At ...      none  \n",
      "1  Chip shortage is an all hands on deck type sit...      none  \n",
      "2  How Nvidia Makes Money: Gaming, Data Center, a...      none  \n",
      "3                        Nvidia Leads Market Rebound      none  \n",
      "4  Why Intel's M&A strategy has this analyst 'a l...      none  \n"
     ]
    }
   ],
   "source": [
    "relevant_path = 'C:/Users/pstri/OneDrive/Documents/Personal/Kokoro/NLTK/Code Project/Scraped Files'\n",
    "\n",
    "list_dir_files(relevant_path)\n",
    "\n",
    "filename = input('What file do you want to use?')\n",
    "\n",
    "df = getData(relevant_path + '/' + filename)\n",
    "\n",
    "if 'Sentiment' in df:\n",
    "    print('Sentiment is there')\n",
    "else:\n",
    "    print('\\nIt is not there; a column will be added with the values of \"none.\"')\n",
    "    df = df.assign(Sentiment = lambda x:'none') # add a column 'Sentiment' and populates with the value 'none'\n",
    "    \n",
    "print(df.head())\n"
   ]
  },
  {
   "cell_type": "code",
   "execution_count": 4,
   "metadata": {},
   "outputs": [
    {
     "name": "stdout",
     "output_type": "stream",
     "text": [
      "     ticker       date       time  \\\n",
      "0      NVDA  Jul-23-21  07:26PM     \n",
      "1      NVDA  Jul-23-21  03:16PM     \n",
      "2      NVDA  Jul-23-21  01:02PM     \n",
      "3      NVDA  Jul-23-21  12:11PM     \n",
      "4      NVDA  Jul-23-21  12:01PM     \n",
      "...     ...        ...        ...   \n",
      "1095   PLTR  May-18-21  11:36AM     \n",
      "1096   PLTR  May-18-21  08:15AM     \n",
      "1097   PLTR  May-18-21  05:49AM     \n",
      "1098   PLTR  May-17-21  02:34PM     \n",
      "1099   PLTR  May-16-21  05:06AM     \n",
      "\n",
      "                                                  title  \n",
      "0     Dow Jones Futures: Stock Market Rally Back At ...  \n",
      "1     Chip shortage is an all hands on deck type sit...  \n",
      "2     How Nvidia Makes Money: Gaming, Data Center, a...  \n",
      "3                           Nvidia Leads Market Rebound  \n",
      "4     Why Intel's M&A strategy has this analyst 'a l...  \n",
      "...                                                 ...  \n",
      "1095                          Palantir Still Looks Weak  \n",
      "1096  How These 2 Tech Stocks Are Helping the Fight ...  \n",
      "1097  Forget Dogecoin -- Buy These 3 Growth Stocks I...  \n",
      "1098  Palantir Technologies Stock Earns Technical Ra...  \n",
      "1099  Palantir Stock: This One Could Require Some Pa...  \n",
      "\n",
      "[1100 rows x 4 columns]\n"
     ]
    }
   ],
   "source": [
    "print(df)"
   ]
  },
  {
   "cell_type": "code",
   "execution_count": 6,
   "metadata": {},
   "outputs": [
    {
     "name": "stdout",
     "output_type": "stream",
     "text": [
      "Sentiment is there\n"
     ]
    }
   ],
   "source": [
    "if 'Sentiment' in df:\n",
    "    print('Sentiment is there')\n",
    "else:\n",
    "    print('It is not there')"
   ]
  },
  {
   "cell_type": "code",
   "execution_count": null,
   "metadata": {},
   "outputs": [],
   "source": [
    "\n",
    "    df = df.assign(Sentiment = lambda x:'none') # add a column 'Sentiment' and populates with the value 'none'\n",
    "\n",
    "\n"
   ]
  },
  {
   "cell_type": "code",
   "execution_count": null,
   "metadata": {},
   "outputs": [],
   "source": []
  },
  {
   "cell_type": "code",
   "execution_count": null,
   "metadata": {},
   "outputs": [],
   "source": []
  },
  {
   "cell_type": "code",
   "execution_count": null,
   "metadata": {},
   "outputs": [],
   "source": [
    "df.columns"
   ]
  },
  {
   "cell_type": "code",
   "execution_count": null,
   "metadata": {},
   "outputs": [],
   "source": [
    "df = df.assign(Sentiment = lambda x:'none')"
   ]
  },
  {
   "cell_type": "code",
   "execution_count": null,
   "metadata": {},
   "outputs": [],
   "source": [
    "print(df.head())"
   ]
  },
  {
   "cell_type": "code",
   "execution_count": null,
   "metadata": {},
   "outputs": [],
   "source": [
    "i = 0\n",
    "\n",
    "while i < len(df):\n",
    "    df.loc[i,('sentiment')] == 'none'\n",
    "    \n",
    "    i += 1\n",
    "    \n",
    "print (df.head())"
   ]
  },
  {
   "cell_type": "code",
   "execution_count": null,
   "metadata": {},
   "outputs": [],
   "source": []
  },
  {
   "cell_type": "code",
   "execution_count": null,
   "metadata": {},
   "outputs": [],
   "source": []
  },
  {
   "cell_type": "code",
   "execution_count": null,
   "metadata": {},
   "outputs": [],
   "source": []
  },
  {
   "cell_type": "code",
   "execution_count": null,
   "metadata": {},
   "outputs": [],
   "source": [
    "# 120 Allows user to manually input value when stocktwits sentiment value is \"None\"\n",
    "# It counts every 20 edits and gives the user the option to quit. If the user chooses to quit\n",
    "# it breaks from the while look and writes the df to a csv file so all work is saved up to that point.\n",
    "# upon start up it ask if thie is the first time processing the raw data. If no it loads the csv file into\n",
    "# the dataframe and starts where the previous session left off. If \"modified?\" is \"Yes and \"sentiment\" is \"None\"\n",
    "# it skips the record. Therefore it will re-start at the first \"modified?\" is \"No\" and \"sentiment\" is \"None\"\n",
    "def edit(df):\n",
    "\n",
    "    import copy\n",
    "        \n",
    "    i = 0\n",
    "    counter = 0    # counter to see if user want to stop\n",
    "\n",
    "    while i < len(df):\n",
    "        \n",
    "        print(df.loc)\n",
    "\n",
    "        if df.loc[i,('sentiment')] == 'None' and df.loc[i,('modified?')] == 'No': # Column 9 is 'modified?'\n",
    "            print('\\nindex number:', i, '\\n', df.loc[i, ('body')])\n",
    "            #print('This is the body of the tweet:\\n', df..log[i,('body')])\n",
    "            rating = int(input('Enter your rating (1, 0 or -1.):')) \n",
    "            df.loc[i,('modified_rating')] = copy.deepcopy(rating) # writes inputed number to the 'modified_rating'\n",
    "            df.loc[i,('modified?')] = 'Yes' # sets \"modified?\" equal to 'Yes' to identify which records have been modified; so that it can start at the next record at start up\n",
    "        \n",
    "            counter += 1\n",
    "        \n",
    "        elif df.loc[i,('sentiment')] == 'Bearish':\n",
    "\n",
    "            df.loc[i,('modified_rating')] = df.loc[i,('sentiment_number')] #copies the stocktwits 'sentiment_number' (7) to the 'modified_rating(8)\n",
    "        \n",
    "        elif df.loc[i,('sentiment')] == 'Bullish':\n",
    "        \n",
    "            df.loc[i,('modified_rating')] = df.loc[i,('sentiment_number')] #copies the stocktwits 'sentiment_number' (7) to the 'modified_rating(8)\n",
    "\n",
    "        if counter == 20: # represents 20 edits\n",
    "            quit = input('Do you want to quit? (Enter either a \"y\" or \"Y\") ')\n",
    "            if quit == 'y' or quit == 'Y':\n",
    "                print('You are exiting.')\n",
    "                break\n",
    "            else:\n",
    "                counter = 0 # resets the counter to 0 so there must be another 20 records reviewed and modified \n",
    "        \n",
    "        i += 1\n",
    "    \n",
    "    #df.to_csv(filename, index = False)\n",
    "    #print('The csv file was written. File name: ', filename)\n",
    "    \n",
    "    return df\n"
   ]
  },
  {
   "cell_type": "code",
   "execution_count": null,
   "metadata": {},
   "outputs": [],
   "source": []
  },
  {
   "cell_type": "code",
   "execution_count": 3,
   "metadata": {},
   "outputs": [],
   "source": [
    "import pandas as pd\n",
    "import numpy as np"
   ]
  },
  {
   "cell_type": "code",
   "execution_count": null,
   "metadata": {},
   "outputs": [],
   "source": []
  },
  {
   "cell_type": "code",
   "execution_count": 44,
   "metadata": {},
   "outputs": [
    {
     "data": {
      "text/html": [
       "<div>\n",
       "<style scoped>\n",
       "    .dataframe tbody tr th:only-of-type {\n",
       "        vertical-align: middle;\n",
       "    }\n",
       "\n",
       "    .dataframe tbody tr th {\n",
       "        vertical-align: top;\n",
       "    }\n",
       "\n",
       "    .dataframe thead th {\n",
       "        text-align: right;\n",
       "    }\n",
       "</style>\n",
       "<table border=\"1\" class=\"dataframe\">\n",
       "  <thead>\n",
       "    <tr style=\"text-align: right;\">\n",
       "      <th></th>\n",
       "      <th>age</th>\n",
       "      <th>born</th>\n",
       "      <th>name</th>\n",
       "      <th>toy</th>\n",
       "    </tr>\n",
       "  </thead>\n",
       "  <tbody>\n",
       "    <tr>\n",
       "      <th>0</th>\n",
       "      <td>5.0</td>\n",
       "      <td>NaT</td>\n",
       "      <td>Alfred</td>\n",
       "      <td>None</td>\n",
       "    </tr>\n",
       "    <tr>\n",
       "      <th>1</th>\n",
       "      <td>6.0</td>\n",
       "      <td>1939-05-27</td>\n",
       "      <td>Batman</td>\n",
       "      <td>Batmobile</td>\n",
       "    </tr>\n",
       "    <tr>\n",
       "      <th>2</th>\n",
       "      <td>NaN</td>\n",
       "      <td>1940-04-25</td>\n",
       "      <td></td>\n",
       "      <td>Joker</td>\n",
       "    </tr>\n",
       "  </tbody>\n",
       "</table>\n",
       "</div>"
      ],
      "text/plain": [
       "   age       born    name        toy\n",
       "0  5.0        NaT  Alfred       None\n",
       "1  6.0 1939-05-27  Batman  Batmobile\n",
       "2  NaN 1940-04-25              Joker"
      ]
     },
     "execution_count": 44,
     "metadata": {},
     "output_type": "execute_result"
    }
   ],
   "source": [
    "df = pd.DataFrame(dict(age=[5, 6, np.NaN],\n",
    "                   born=[pd.NaT, pd.Timestamp('1939-05-27'),\n",
    "                         pd.Timestamp('1940-04-25')],\n",
    "                   name=['Alfred', 'Batman', ''],\n",
    "                   toy=[None, 'Batmobile', 'Joker']))\n",
    "df"
   ]
  },
  {
   "cell_type": "code",
   "execution_count": 45,
   "metadata": {},
   "outputs": [
    {
     "data": {
      "text/html": [
       "<div>\n",
       "<style scoped>\n",
       "    .dataframe tbody tr th:only-of-type {\n",
       "        vertical-align: middle;\n",
       "    }\n",
       "\n",
       "    .dataframe tbody tr th {\n",
       "        vertical-align: top;\n",
       "    }\n",
       "\n",
       "    .dataframe thead th {\n",
       "        text-align: right;\n",
       "    }\n",
       "</style>\n",
       "<table border=\"1\" class=\"dataframe\">\n",
       "  <thead>\n",
       "    <tr style=\"text-align: right;\">\n",
       "      <th></th>\n",
       "      <th>age</th>\n",
       "      <th>born</th>\n",
       "      <th>name</th>\n",
       "      <th>toy</th>\n",
       "    </tr>\n",
       "  </thead>\n",
       "  <tbody>\n",
       "    <tr>\n",
       "      <th>0</th>\n",
       "      <td>False</td>\n",
       "      <td>True</td>\n",
       "      <td>False</td>\n",
       "      <td>True</td>\n",
       "    </tr>\n",
       "    <tr>\n",
       "      <th>1</th>\n",
       "      <td>False</td>\n",
       "      <td>False</td>\n",
       "      <td>False</td>\n",
       "      <td>False</td>\n",
       "    </tr>\n",
       "    <tr>\n",
       "      <th>2</th>\n",
       "      <td>True</td>\n",
       "      <td>False</td>\n",
       "      <td>False</td>\n",
       "      <td>False</td>\n",
       "    </tr>\n",
       "  </tbody>\n",
       "</table>\n",
       "</div>"
      ],
      "text/plain": [
       "     age   born   name    toy\n",
       "0  False   True  False   True\n",
       "1  False  False  False  False\n",
       "2   True  False  False  False"
      ]
     },
     "execution_count": 45,
     "metadata": {},
     "output_type": "execute_result"
    }
   ],
   "source": [
    "df.isnull()"
   ]
  },
  {
   "cell_type": "code",
   "execution_count": 46,
   "metadata": {},
   "outputs": [
    {
     "ename": "TypeError",
     "evalue": "ufunc 'isnan' not supported for the input types, and the inputs could not be safely coerced to any supported types according to the casting rule ''safe''",
     "output_type": "error",
     "traceback": [
      "\u001b[1;31m---------------------------------------------------------------------------\u001b[0m",
      "\u001b[1;31mTypeError\u001b[0m                                 Traceback (most recent call last)",
      "\u001b[1;32m<ipython-input-46-eb6dd9d9541d>\u001b[0m in \u001b[0;36m<module>\u001b[1;34m\u001b[0m\n\u001b[0;32m      2\u001b[0m \u001b[1;33m\u001b[0m\u001b[0m\n\u001b[0;32m      3\u001b[0m \u001b[1;32mwhile\u001b[0m \u001b[0mi\u001b[0m \u001b[1;33m<\u001b[0m \u001b[0mlen\u001b[0m\u001b[1;33m(\u001b[0m\u001b[0mdf\u001b[0m\u001b[1;33m)\u001b[0m\u001b[1;33m:\u001b[0m\u001b[1;33m\u001b[0m\u001b[1;33m\u001b[0m\u001b[0m\n\u001b[1;32m----> 4\u001b[1;33m     \u001b[1;32mif\u001b[0m \u001b[0mnp\u001b[0m\u001b[1;33m.\u001b[0m\u001b[0misnan\u001b[0m\u001b[1;33m(\u001b[0m\u001b[0mdf\u001b[0m\u001b[1;33m.\u001b[0m\u001b[0miloc\u001b[0m\u001b[1;33m[\u001b[0m\u001b[0mi\u001b[0m\u001b[1;33m,\u001b[0m\u001b[1;36m2\u001b[0m\u001b[1;33m]\u001b[0m\u001b[1;33m)\u001b[0m\u001b[1;33m:\u001b[0m\u001b[1;33m\u001b[0m\u001b[1;33m\u001b[0m\u001b[0m\n\u001b[0m\u001b[0;32m      5\u001b[0m         \u001b[0mprint\u001b[0m\u001b[1;33m(\u001b[0m\u001b[1;34m'There is a null'\u001b[0m\u001b[1;33m)\u001b[0m\u001b[1;33m\u001b[0m\u001b[1;33m\u001b[0m\u001b[0m\n\u001b[0;32m      6\u001b[0m     \u001b[1;32melse\u001b[0m\u001b[1;33m:\u001b[0m\u001b[1;33m\u001b[0m\u001b[1;33m\u001b[0m\u001b[0m\n",
      "\u001b[1;31mTypeError\u001b[0m: ufunc 'isnan' not supported for the input types, and the inputs could not be safely coerced to any supported types according to the casting rule ''safe''"
     ]
    }
   ],
   "source": [
    "i = 0\n",
    "\n",
    "while i < len(df):\n",
    "    if np.isnan(df.iloc[i,2]):\n",
    "        print('There is a null')\n",
    "    else:\n",
    "        print('There are no nulls')\n",
    "    \n",
    "    i += 1"
   ]
  },
  {
   "cell_type": "code",
   "execution_count": 46,
   "metadata": {},
   "outputs": [
    {
     "ename": "TypeError",
     "evalue": "ufunc 'isnan' not supported for the input types, and the inputs could not be safely coerced to any supported types according to the casting rule ''safe''",
     "output_type": "error",
     "traceback": [
      "\u001b[1;31m---------------------------------------------------------------------------\u001b[0m",
      "\u001b[1;31mTypeError\u001b[0m                                 Traceback (most recent call last)",
      "\u001b[1;32m<ipython-input-46-eb6dd9d9541d>\u001b[0m in \u001b[0;36m<module>\u001b[1;34m\u001b[0m\n\u001b[0;32m      2\u001b[0m \u001b[1;33m\u001b[0m\u001b[0m\n\u001b[0;32m      3\u001b[0m \u001b[1;32mwhile\u001b[0m \u001b[0mi\u001b[0m \u001b[1;33m<\u001b[0m \u001b[0mlen\u001b[0m\u001b[1;33m(\u001b[0m\u001b[0mdf\u001b[0m\u001b[1;33m)\u001b[0m\u001b[1;33m:\u001b[0m\u001b[1;33m\u001b[0m\u001b[1;33m\u001b[0m\u001b[0m\n\u001b[1;32m----> 4\u001b[1;33m     \u001b[1;32mif\u001b[0m \u001b[0mnp\u001b[0m\u001b[1;33m.\u001b[0m\u001b[0misnan\u001b[0m\u001b[1;33m(\u001b[0m\u001b[0mdf\u001b[0m\u001b[1;33m.\u001b[0m\u001b[0miloc\u001b[0m\u001b[1;33m[\u001b[0m\u001b[0mi\u001b[0m\u001b[1;33m,\u001b[0m\u001b[1;36m2\u001b[0m\u001b[1;33m]\u001b[0m\u001b[1;33m)\u001b[0m\u001b[1;33m:\u001b[0m\u001b[1;33m\u001b[0m\u001b[1;33m\u001b[0m\u001b[0m\n\u001b[0m\u001b[0;32m      5\u001b[0m         \u001b[0mprint\u001b[0m\u001b[1;33m(\u001b[0m\u001b[1;34m'There is a null'\u001b[0m\u001b[1;33m)\u001b[0m\u001b[1;33m\u001b[0m\u001b[1;33m\u001b[0m\u001b[0m\n\u001b[0;32m      6\u001b[0m     \u001b[1;32melse\u001b[0m\u001b[1;33m:\u001b[0m\u001b[1;33m\u001b[0m\u001b[1;33m\u001b[0m\u001b[0m\n",
      "\u001b[1;31mTypeError\u001b[0m: ufunc 'isnan' not supported for the input types, and the inputs could not be safely coerced to any supported types according to the casting rule ''safe''"
     ]
    }
   ],
   "source": [
    "i = 0\n",
    "\n",
    "while i < len(df):\n",
    "    if (df.iloc[i,2]):\n",
    "        print('There is a null')\n",
    "    else:\n",
    "        print('There are no nulls')\n",
    "    \n",
    "    i += 1"
   ]
  },
  {
   "cell_type": "code",
   "execution_count": 25,
   "metadata": {},
   "outputs": [
    {
     "name": "stdout",
     "output_type": "stream",
     "text": [
      "     Col1 Col2\n",
      "Row1    1  NaN\n",
      "Row2    3    4\n"
     ]
    }
   ],
   "source": [
    "data = np.array([['','Col1','Col2'],\n",
    "                ['Row1',1,'NaN'],\n",
    "                ['Row2',3,4]])\n",
    "\n",
    "print(pd.DataFrame(data=data[1:,1:],\n",
    "                  index=data[1:,0],\n",
    "                  columns=data[0,1:]))\n",
    "\n",
    "df_test = pd.DataFrame(data=data[1:,1:],\n",
    "                  index=data[1:,0],\n",
    "                  columns=data[0,1:])"
   ]
  },
  {
   "cell_type": "code",
   "execution_count": 24,
   "metadata": {},
   "outputs": [
    {
     "name": "stdout",
     "output_type": "stream",
     "text": [
      "     Col1 Col2\n",
      "Row1    1  nan\n",
      "Row2    3    4\n"
     ]
    }
   ],
   "source": [
    "print(df_test)"
   ]
  },
  {
   "cell_type": "code",
   "execution_count": 20,
   "metadata": {},
   "outputs": [
    {
     "name": "stdout",
     "output_type": "stream",
     "text": [
      "\n"
     ]
    }
   ],
   "source": [
    "print(df_test.iloc[0,1])"
   ]
  },
  {
   "cell_type": "code",
   "execution_count": 26,
   "metadata": {
    "scrolled": true
   },
   "outputs": [
    {
     "data": {
      "text/html": [
       "<div>\n",
       "<style scoped>\n",
       "    .dataframe tbody tr th:only-of-type {\n",
       "        vertical-align: middle;\n",
       "    }\n",
       "\n",
       "    .dataframe tbody tr th {\n",
       "        vertical-align: top;\n",
       "    }\n",
       "\n",
       "    .dataframe thead th {\n",
       "        text-align: right;\n",
       "    }\n",
       "</style>\n",
       "<table border=\"1\" class=\"dataframe\">\n",
       "  <thead>\n",
       "    <tr style=\"text-align: right;\">\n",
       "      <th></th>\n",
       "      <th>Col1</th>\n",
       "      <th>Col2</th>\n",
       "    </tr>\n",
       "  </thead>\n",
       "  <tbody>\n",
       "    <tr>\n",
       "      <th>Row1</th>\n",
       "      <td>False</td>\n",
       "      <td>False</td>\n",
       "    </tr>\n",
       "    <tr>\n",
       "      <th>Row2</th>\n",
       "      <td>False</td>\n",
       "      <td>False</td>\n",
       "    </tr>\n",
       "  </tbody>\n",
       "</table>\n",
       "</div>"
      ],
      "text/plain": [
       "       Col1   Col2\n",
       "Row1  False  False\n",
       "Row2  False  False"
      ]
     },
     "execution_count": 26,
     "metadata": {},
     "output_type": "execute_result"
    }
   ],
   "source": [
    "df_test.isna()"
   ]
  },
  {
   "cell_type": "code",
   "execution_count": 16,
   "metadata": {},
   "outputs": [
    {
     "name": "stdout",
     "output_type": "stream",
     "text": [
      "There are no empty cells!\n"
     ]
    }
   ],
   "source": [
    "def check_nan(df):\n",
    "    if df.isnull().values.any() == True:\n",
    "        print('There is an empty sentiment value at: ')\n",
    "        np.where(pd.isnull(df))\n",
    "    else:\n",
    "        print('There are no empty cells!')\n",
    "\n",
    "check_nan(df_test)"
   ]
  },
  {
   "cell_type": "code",
   "execution_count": 17,
   "metadata": {},
   "outputs": [],
   "source": [
    "def check_nan(df_test):\n",
    "    if pd.isnull(df_test):\n",
    "        print('There is an empty sentiment value at: ')\n",
    "        np.where(pd.isnull(df))\n",
    "    else:\n",
    "        print('There are no empty cells!')\n"
   ]
  },
  {
   "cell_type": "code",
   "execution_count": null,
   "metadata": {},
   "outputs": [],
   "source": []
  },
  {
   "cell_type": "code",
   "execution_count": null,
   "metadata": {},
   "outputs": [],
   "source": []
  },
  {
   "cell_type": "code",
   "execution_count": null,
   "metadata": {},
   "outputs": [],
   "source": []
  },
  {
   "cell_type": "code",
   "execution_count": null,
   "metadata": {},
   "outputs": [],
   "source": []
  },
  {
   "cell_type": "code",
   "execution_count": null,
   "metadata": {},
   "outputs": [],
   "source": []
  },
  {
   "cell_type": "code",
   "execution_count": null,
   "metadata": {},
   "outputs": [],
   "source": [
    "if path.isfile('finviz_titles_with_sentiment.csv'):\n",
    "    df = getData('finviz_titles_with_sentiment.csv')\n",
    "else:\n",
    "    initial_file = input(What file do you want to start with?)\n",
    "    df = getData('finviz-Copy1.csv') #opens initial file\n",
    "    df = df.assign(Sentiment = lambda x:'none') # add a column 'Sentiment' and populates with the value 'none'\n"
   ]
  },
  {
   "cell_type": "code",
   "execution_count": null,
   "metadata": {},
   "outputs": [],
   "source": []
  },
  {
   "cell_type": "code",
   "execution_count": null,
   "metadata": {},
   "outputs": [],
   "source": []
  }
 ],
 "metadata": {
  "kernelspec": {
   "display_name": "Python 3",
   "language": "python",
   "name": "python3"
  },
  "language_info": {
   "codemirror_mode": {
    "name": "ipython",
    "version": 3
   },
   "file_extension": ".py",
   "mimetype": "text/x-python",
   "name": "python",
   "nbconvert_exporter": "python",
   "pygments_lexer": "ipython3",
   "version": "3.8.3"
  }
 },
 "nbformat": 4,
 "nbformat_minor": 4
}
